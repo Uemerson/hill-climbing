{
  "nbformat": 4,
  "nbformat_minor": 0,
  "metadata": {
    "colab": {
      "name": "hill-climbing.ipynb",
      "provenance": [],
      "collapsed_sections": [],
      "authorship_tag": "ABX9TyPspDC0KVoYbahdHlD8FYin",
      "include_colab_link": true
    },
    "kernelspec": {
      "name": "python3",
      "display_name": "Python 3"
    },
    "language_info": {
      "name": "python"
    }
  },
  "cells": [
    {
      "cell_type": "markdown",
      "metadata": {
        "id": "view-in-github",
        "colab_type": "text"
      },
      "source": [
        "<a href=\"https://colab.research.google.com/github/Uemerson/hill-climbing/blob/main/hill_climbing.ipynb\" target=\"_parent\"><img src=\"https://colab.research.google.com/assets/colab-badge.svg\" alt=\"Open In Colab\"/></a>"
      ]
    },
    {
      "cell_type": "markdown",
      "metadata": {
        "id": "z4-W8fL4qPhw"
      },
      "source": [
        "Implementação do algoritmo de subida da colina \"hill climbing\" para maximizar o resultado da seguinte equação matemática\n",
        "\n",
        "$$g(x) = {2} ^ {{-2}(\\frac{x-0.1}{0.9})^{2}}{(\\sin(5 \\pi x)) ^ 6} $$\n"
      ]
    },
    {
      "cell_type": "markdown",
      "metadata": {
        "id": "1EEWCaCOn9EK"
      },
      "source": [
        "Importando bibliotecas necessárias."
      ]
    },
    {
      "cell_type": "code",
      "metadata": {
        "id": "X29zoJE1nRfo"
      },
      "source": [
        "import math\n",
        "import random\n",
        "import matplotlib.pyplot as plt\n",
        "import numpy as np\n",
        "%matplotlib inline"
      ],
      "execution_count": 1,
      "outputs": []
    },
    {
      "cell_type": "markdown",
      "metadata": {
        "id": "-SeWqK9nosOe"
      },
      "source": [
        "A função de custo é onde a avaliação do algoritmo acontece. Neste algoritmo a função de custo é dada simplesmente pelo resultado da equação que deve ser maximizado."
      ]
    },
    {
      "cell_type": "code",
      "metadata": {
        "id": "2bGklIfoos4A"
      },
      "source": [
        "def cost_function (x):\n",
        "  cost = 2 ** -2 * (x - 0.1 / 0.9) ** 2 * (math.sin(5 * math.pi * x)) ** 6\n",
        "  return cost"
      ],
      "execution_count": 2,
      "outputs": []
    },
    {
      "cell_type": "markdown",
      "metadata": {
        "id": "o2-NKH0LsZlI"
      },
      "source": [
        "Esse função tem como objetivo realizar a perturbação no valor inicial, pode se um valor constante ou alguma outra formula, como por exemplo a gaussiana."
      ]
    },
    {
      "cell_type": "code",
      "metadata": {
        "id": "sIAQJmHco1Mj"
      },
      "source": [
        "def disturb (x, learning):\n",
        "  learning = learning / 10 if learning >= 10 else 1\n",
        "  constant = 0.005 / learning\n",
        "\n",
        "  x = x + constant if x + constant < 1 else x\n",
        "\n",
        "  return x"
      ],
      "execution_count": 3,
      "outputs": []
    },
    {
      "cell_type": "markdown",
      "metadata": {
        "id": "iagCyLLTsEJv"
      },
      "source": [
        "Função para plotar os resultados."
      ]
    },
    {
      "cell_type": "code",
      "metadata": {
        "id": "YpAmTJBTsDfq"
      },
      "source": [
        "def plot_results(results):\n",
        "    t = np.arange(0.0, len(results), 1)\n",
        "    \n",
        "    plt.figure(figsize=(12,8))\n",
        "    plt.plot(t, results)\n",
        "    plt.show()"
      ],
      "execution_count": 4,
      "outputs": []
    },
    {
      "cell_type": "markdown",
      "metadata": {
        "id": "6fv_jVddt1sh"
      },
      "source": [
        "Função para printar os resultados."
      ]
    },
    {
      "cell_type": "code",
      "metadata": {
        "id": "x5XxsLPZ2ro_"
      },
      "source": [
        "def report (old_value, new_value):\n",
        "  print(f'old value: {old_value}')\n",
        "  print(f'cost of old value: {cost_function(old_value)}')\n",
        "  print(f'new value: {new_value}')\n",
        "  print(f'cost of new value: {cost_function(new_value)}')\n",
        "  print()\n",
        "  print()"
      ],
      "execution_count": 5,
      "outputs": []
    },
    {
      "cell_type": "markdown",
      "metadata": {
        "id": "e0gkI0ai4bz7"
      },
      "source": [
        "Função que realiza o cálculo do algoritmo de subida da encosta."
      ]
    },
    {
      "cell_type": "code",
      "metadata": {
        "id": "8RgsxQsZt04i"
      },
      "source": [
        "def hill_climbing(max_it):\n",
        "  x = random.random()\n",
        "  print(f'initial value [0, 1): {x}')\n",
        "\n",
        "  count = 1\n",
        "  costs = []\n",
        "\n",
        "  while count < max_it:\n",
        "    \n",
        "    temp = disturb(x, count)\n",
        "\n",
        "    if cost_function(temp) > cost_function(x):\n",
        "      report(x, temp)\n",
        "      x = temp\n",
        "      costs.append(cost_function(x))\n",
        "\n",
        "    count += 1\n",
        "\n",
        "  return x, costs"
      ],
      "execution_count": 6,
      "outputs": []
    },
    {
      "cell_type": "code",
      "metadata": {
        "colab": {
          "base_uri": "https://localhost:8080/",
          "height": 1000
        },
        "id": "qE-aE1_nuPOi",
        "outputId": "57ec322f-6053-49a2-e727-3ff7b0061514"
      },
      "source": [
        "results = hill_climbing(10000)\n",
        "\n",
        "print(f'final value [0, 1): {results[0]}')\n",
        "print(f'found costs: {results[1]}')\n",
        "\n",
        "plot_results(results[1])"
      ],
      "execution_count": 14,
      "outputs": [
        {
          "output_type": "stream",
          "text": [
            "initial value [0, 1): 0.032781148493199797\n",
            "old value: 0.032781148493199797\n",
            "cost of old value: 2.1881275351883566e-05\n",
            "new value: 0.037781148493199794\n",
            "cost of new value: 4.112229814622472e-05\n",
            "\n",
            "\n",
            "old value: 0.037781148493199794\n",
            "cost of old value: 4.112229814622472e-05\n",
            "new value: 0.04278114849319979\n",
            "cost of new value: 6.795684644867313e-05\n",
            "\n",
            "\n",
            "old value: 0.04278114849319979\n",
            "cost of old value: 6.795684644867313e-05\n",
            "new value: 0.04778114849319979\n",
            "cost of new value: 0.00010092677557180018\n",
            "\n",
            "\n",
            "old value: 0.04778114849319979\n",
            "cost of old value: 0.00010092677557180018\n",
            "new value: 0.052781148493199787\n",
            "cost of new value: 0.00013665802130145195\n",
            "\n",
            "\n",
            "old value: 0.052781148493199787\n",
            "cost of old value: 0.00013665802130145195\n",
            "new value: 0.057781148493199784\n",
            "cost of new value: 0.00017028767594633347\n",
            "\n",
            "\n",
            "old value: 0.057781148493199784\n",
            "cost of old value: 0.00017028767594633347\n",
            "new value: 0.06278114849319978\n",
            "cost of new value: 0.00019638295029356624\n",
            "\n",
            "\n",
            "old value: 0.06278114849319978\n",
            "cost of old value: 0.00019638295029356624\n",
            "new value: 0.06778114849319979\n",
            "cost of new value: 0.00021013996802802544\n",
            "\n",
            "\n",
            "old value: 0.06778114849319979\n",
            "cost of old value: 0.00021013996802802544\n",
            "new value: 0.07162730233935363\n",
            "cost of new value: 0.00021034803025376332\n",
            "\n",
            "\n",
            "final value [0, 1): 0.07162730233935363\n",
            "found costs: [4.112229814622472e-05, 6.795684644867313e-05, 0.00010092677557180018, 0.00013665802130145195, 0.00017028767594633347, 0.00019638295029356624, 0.00021013996802802544, 0.00021034803025376332]\n"
          ],
          "name": "stdout"
        },
        {
          "output_type": "display_data",
          "data": {
            "image/png": "[encoded data removed]",
            "text/plain": [
              "<Figure size 864x576 with 1 Axes>"
            ]
          },
          "metadata": {
            "tags": [],
            "needs_background": "light"
          }
        }
      ]
    }
  ]
}