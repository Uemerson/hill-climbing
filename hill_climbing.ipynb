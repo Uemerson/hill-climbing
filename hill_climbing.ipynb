{
  "nbformat": 4,
  "nbformat_minor": 0,
  "metadata": {
    "colab": {
      "name": "hill-climbing.ipynb",
      "provenance": [],
      "collapsed_sections": [],
      "authorship_tag": "ABX9TyNO+MCvILI7oErbLBbkciMv",
      "include_colab_link": true
    },
    "kernelspec": {
      "name": "python3",
      "display_name": "Python 3"
    },
    "language_info": {
      "name": "python"
    }
  },
  "cells": [
    {
      "cell_type": "markdown",
      "metadata": {
        "id": "view-in-github",
        "colab_type": "text"
      },
      "source": [
        "<a href=\"https://colab.research.google.com/github/Uemerson/hill-climbing/blob/main/hill_climbing.ipynb\" target=\"_parent\"><img src=\"https://colab.research.google.com/assets/colab-badge.svg\" alt=\"Open In Colab\"/></a>"
      ]
    },
    {
      "cell_type": "markdown",
      "metadata": {
        "id": "z4-W8fL4qPhw"
      },
      "source": [
        "Implementação do algoritmo de subida da colina \"hill climbing\" para maximizar o resultado da seguinte equação matemática\n",
        "\n",
        "$$g(x) = {2} ^ {{-2}(\\frac{x-0.1}{0.9})^{2}}{(\\sin(5 \\pi x)) ^ 6} $$\n"
      ]
    },
    {
      "cell_type": "markdown",
      "metadata": {
        "id": "1EEWCaCOn9EK"
      },
      "source": [
        "Importando bibliotecas necessárias."
      ]
    },
    {
      "cell_type": "code",
      "metadata": {
        "id": "X29zoJE1nRfo"
      },
      "source": [
        "import math\n",
        "import random\n",
        "import matplotlib.pyplot as plt\n",
        "import numpy as np\n",
        "%matplotlib inline"
      ],
      "execution_count": null,
      "outputs": []
    },
    {
      "cell_type": "markdown",
      "metadata": {
        "id": "-SeWqK9nosOe"
      },
      "source": [
        "A função de custo é onde a avaliação do algoritmo acontece. Neste algoritmo a função de custo é dada simplesmente pelo resultado da equação que deve ser maximizado."
      ]
    },
    {
      "cell_type": "code",
      "metadata": {
        "id": "2bGklIfoos4A"
      },
      "source": [
        "def cost_function (x):\n",
        "  cost = 2 ** -2 * (x - 0.1 / 0.9) ** 2 * (math.sin(5 * math.pi * x)) ** 6\n",
        "  return cost"
      ],
      "execution_count": null,
      "outputs": []
    },
    {
      "cell_type": "markdown",
      "metadata": {
        "id": "o2-NKH0LsZlI"
      },
      "source": [
        "Esse função tem como objetivo realizar a perturbação no valor inicial, pode se um valor constante ou alguma outra formula, como por exemplo a gaussiana."
      ]
    },
    {
      "cell_type": "code",
      "metadata": {
        "id": "sIAQJmHco1Mj"
      },
      "source": [
        "def disturb (x, learning):\n",
        "  learning = learning / 10 if learning >= 10 else 1\n",
        "  constant = 0.000005 / learning\n",
        "\n",
        "  x = x + constant if x + constant < 1 else x\n",
        "\n",
        "  return x"
      ],
      "execution_count": null,
      "outputs": []
    },
    {
      "cell_type": "markdown",
      "metadata": {
        "id": "iagCyLLTsEJv"
      },
      "source": [
        "Função para plotar os resultados"
      ]
    },
    {
      "cell_type": "code",
      "metadata": {
        "id": "YpAmTJBTsDfq"
      },
      "source": [
        "def plot_results(results):\n",
        "    t = np.arange(0.0, len(results), 1)\n",
        "    \n",
        "    plt.figure(figsize=(12,8))\n",
        "    plt.plot(t, results)\n",
        "    plt.show()"
      ],
      "execution_count": null,
      "outputs": []
    }
  ]
}